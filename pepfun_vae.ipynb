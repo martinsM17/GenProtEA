{
 "cells": [
  {
   "cell_type": "code",
   "execution_count": 2,
   "id": "e0d2897f",
   "metadata": {},
   "outputs": [],
   "source": [
    "import pandas as pd\n",
    "from pepfun import *\n",
    "\n",
    "import numpy as np\n",
    "import matplotlib.pyplot as plt\n",
    "from statistics import mean\n",
    "from statistics import stdev\n",
    "from scipy import stats\n",
    "import random"
   ]
  },
  {
   "cell_type": "code",
   "execution_count": 3,
   "id": "10ea00d7",
   "metadata": {},
   "outputs": [],
   "source": [
    "#load data with the right format, specially the header\n",
    "vae_spea = pd.read_csv('VAE_spea_trim.csv')"
   ]
  },
  {
   "cell_type": "code",
   "execution_count": 4,
   "id": "688622d1",
   "metadata": {},
   "outputs": [],
   "source": [
    "#select set of samples\n",
    "vae_spea = vae_spea.sample(1000)"
   ]
  },
  {
   "cell_type": "code",
   "execution_count": 5,
   "id": "b41de114",
   "metadata": {},
   "outputs": [],
   "source": [
    "#save set of samples used\n",
    "vae_spea.to_csv('VAE_spea_sample.csv')"
   ]
  },
  {
   "cell_type": "code",
   "execution_count": 2,
   "id": "60c499ee",
   "metadata": {},
   "outputs": [],
   "source": [
    "vae_solub = pd.read_csv('VAE_solub_trim.csv')\n",
    "vae_synt = pd.read_csv('VAE_synt_trim.csv')"
   ]
  },
  {
   "cell_type": "code",
   "execution_count": 3,
   "id": "598c3f3e",
   "metadata": {},
   "outputs": [],
   "source": [
    "vae_solub = vae_solub.sample(1000)\n",
    "vae_synt = vae_synt.sample(1000)"
   ]
  },
  {
   "cell_type": "code",
   "execution_count": 26,
   "id": "95f66630",
   "metadata": {},
   "outputs": [],
   "source": [
    "vae_raw = pd.read_csv('VAE_original_results.csv')"
   ]
  },
  {
   "cell_type": "code",
   "execution_count": 34,
   "id": "d8035b50",
   "metadata": {},
   "outputs": [],
   "source": [
    "vae_gen =pd.read_csv('VAE_generated_results.csv')"
   ]
  },
  {
   "cell_type": "code",
   "execution_count": 27,
   "id": "ed4a654e",
   "metadata": {},
   "outputs": [],
   "source": [
    "vae_raw = vae_raw.sample(1000)"
   ]
  },
  {
   "cell_type": "code",
   "execution_count": 35,
   "id": "0b14e01e",
   "metadata": {},
   "outputs": [],
   "source": [
    "vae_gen = vae_gen.sample(1000)"
   ]
  },
  {
   "cell_type": "code",
   "execution_count": 5,
   "id": "88950576",
   "metadata": {},
   "outputs": [],
   "source": [
    "vae_solub.to_csv('vae_solub_sample.csv')\n",
    "vae_synt.to_csv('vae_synt_sample.csv')"
   ]
  },
  {
   "cell_type": "code",
   "execution_count": 29,
   "id": "fbf1076c",
   "metadata": {},
   "outputs": [],
   "source": [
    "vae_raw.to_csv('vae_raw_sample.csv')"
   ]
  },
  {
   "cell_type": "code",
   "execution_count": 36,
   "id": "2e921b23",
   "metadata": {},
   "outputs": [],
   "source": [
    "vae_gen.to_csv('vae_gen_sample.csv')"
   ]
  },
  {
   "cell_type": "code",
   "execution_count": 9,
   "id": "c7383f66",
   "metadata": {},
   "outputs": [],
   "source": [
    "vae_nsga.to_csv('vae_nsga_sample.csv')"
   ]
  },
  {
   "cell_type": "code",
   "execution_count": 10,
   "id": "76661242",
   "metadata": {},
   "outputs": [],
   "source": [
    "vae_hydro.to_csv('vae_hydro_sample.csv')"
   ]
  },
  {
   "cell_type": "code",
   "execution_count": 2,
   "id": "1c30ed70",
   "metadata": {
    "scrolled": true
   },
   "outputs": [],
   "source": [
    "vae_raw = pd.read_csv('VAE_original_results.csv')\n",
    "vae_generated = pd.read_csv('VAE_generated_results.csv')"
   ]
  },
  {
   "cell_type": "code",
   "execution_count": 6,
   "id": "34047e42",
   "metadata": {},
   "outputs": [
    {
     "data": {
      "text/html": [
       "<div>\n",
       "<style scoped>\n",
       "    .dataframe tbody tr th:only-of-type {\n",
       "        vertical-align: middle;\n",
       "    }\n",
       "\n",
       "    .dataframe tbody tr th {\n",
       "        vertical-align: top;\n",
       "    }\n",
       "\n",
       "    .dataframe thead th {\n",
       "        text-align: right;\n",
       "    }\n",
       "</style>\n",
       "<table border=\"1\" class=\"dataframe\">\n",
       "  <thead>\n",
       "    <tr style=\"text-align: right;\">\n",
       "      <th></th>\n",
       "      <th>proteins</th>\n",
       "      <th>hydrophobicity</th>\n",
       "      <th>solubility_rules</th>\n",
       "      <th>synthesis_rules</th>\n",
       "      <th>hmm</th>\n",
       "    </tr>\n",
       "  </thead>\n",
       "  <tbody>\n",
       "    <tr>\n",
       "      <th>12605</th>\n",
       "      <td>MGFQPELRDGGEPIRFAYWVPNVSGGLVISKIPQRTGWDAPYNRRL...</td>\n",
       "      <td>0.007736</td>\n",
       "      <td>2</td>\n",
       "      <td>84</td>\n",
       "      <td>238.9</td>\n",
       "    </tr>\n",
       "    <tr>\n",
       "      <th>9077</th>\n",
       "      <td>MSIAKTFHHIPLSVLDLAPVNEGSNPSESFQHSVQLAKHVEALGFN...</td>\n",
       "      <td>0.063878</td>\n",
       "      <td>2</td>\n",
       "      <td>93</td>\n",
       "      <td>120.1</td>\n",
       "    </tr>\n",
       "    <tr>\n",
       "      <th>32851</th>\n",
       "      <td>MTRFGYTLMTEQSGPKALVQYATAAEQVGFDFEVSSDHYSPWLVSQ...</td>\n",
       "      <td>0.110988</td>\n",
       "      <td>2</td>\n",
       "      <td>102</td>\n",
       "      <td>160.1</td>\n",
       "    </tr>\n",
       "    <tr>\n",
       "      <th>18956</th>\n",
       "      <td>MAKLRFGYFIAPFHRAGTNPTLALQRDLELVEHLDAVGYDEAWIGE...</td>\n",
       "      <td>0.104031</td>\n",
       "      <td>2</td>\n",
       "      <td>120</td>\n",
       "      <td>149.4</td>\n",
       "    </tr>\n",
       "    <tr>\n",
       "      <th>41479</th>\n",
       "      <td>MAAEFISVSFPNASNDLNPIPDAPVDPLFLERYARALDDYGFNYTL...</td>\n",
       "      <td>-0.018937</td>\n",
       "      <td>2</td>\n",
       "      <td>92</td>\n",
       "      <td>227.7</td>\n",
       "    </tr>\n",
       "  </tbody>\n",
       "</table>\n",
       "</div>"
      ],
      "text/plain": [
       "                                                proteins  hydrophobicity  \\\n",
       "12605  MGFQPELRDGGEPIRFAYWVPNVSGGLVISKIPQRTGWDAPYNRRL...        0.007736   \n",
       "9077   MSIAKTFHHIPLSVLDLAPVNEGSNPSESFQHSVQLAKHVEALGFN...        0.063878   \n",
       "32851  MTRFGYTLMTEQSGPKALVQYATAAEQVGFDFEVSSDHYSPWLVSQ...        0.110988   \n",
       "18956  MAKLRFGYFIAPFHRAGTNPTLALQRDLELVEHLDAVGYDEAWIGE...        0.104031   \n",
       "41479  MAAEFISVSFPNASNDLNPIPDAPVDPLFLERYARALDDYGFNYTL...       -0.018937   \n",
       "\n",
       "       solubility_rules  synthesis_rules    hmm  \n",
       "12605                 2               84  238.9  \n",
       "9077                  2               93  120.1  \n",
       "32851                 2              102  160.1  \n",
       "18956                 2              120  149.4  \n",
       "41479                 2               92  227.7  "
      ]
     },
     "execution_count": 6,
     "metadata": {},
     "output_type": "execute_result"
    }
   ],
   "source": [
    "raw_vae = vae_raw.sample(1000)"
   ]
  },
  {
   "cell_type": "code",
   "execution_count": 9,
   "id": "6ffbf086",
   "metadata": {},
   "outputs": [],
   "source": [
    "raw_vae.to_csv('vae_raw.csv')"
   ]
  },
  {
   "cell_type": "code",
   "execution_count": 8,
   "id": "8ddda95b",
   "metadata": {},
   "outputs": [
    {
     "data": {
      "text/plain": [
       "(1000, 5)"
      ]
     },
     "execution_count": 8,
     "metadata": {},
     "output_type": "execute_result"
    }
   ],
   "source": [
    "gen_vae = vae_generated.sample(1000)"
   ]
  },
  {
   "cell_type": "code",
   "execution_count": 10,
   "id": "5139f2f9",
   "metadata": {},
   "outputs": [],
   "source": [
    "gen_vae.to_csv('vae_generated.csv')"
   ]
  },
  {
   "cell_type": "code",
   "execution_count": null,
   "id": "0a32e19b",
   "metadata": {},
   "outputs": [],
   "source": [
    "#################################      VAE RAW      ####################################################"
   ]
  },
  {
   "cell_type": "code",
   "execution_count": 6,
   "id": "9829a5e8",
   "metadata": {},
   "outputs": [],
   "source": [
    "sequences = vae_spea['proteins']"
   ]
  },
  {
   "cell_type": "code",
   "execution_count": 7,
   "id": "4779cd43",
   "metadata": {},
   "outputs": [
    {
     "name": "stdout",
     "output_type": "stream",
     "text": [
      "The number of peptides with properties calculated is: 1000\n"
     ]
    }
   ],
   "source": [
    "# List with the properties\n",
    "charges=[]\n",
    "weights=[]\n",
    "logps=[]\n",
    "hydro=[]\n",
    "\n",
    "# Loop over the sequences\n",
    "for seq in sequences:\n",
    "    # Create the object and run the calculations\n",
    "    pep=peptide_sequence(seq)\n",
    "    pep.compute_peptide_charges()\n",
    "    pep.calculate_properties_from_mol()\n",
    "    pep.calculate_properties_from_sequence()\n",
    "    \n",
    "    # Append the properties to the lists\n",
    "    charges.append(pep.netCharge)\n",
    "    weights.append(pep.mol_weight)\n",
    "    logps.append(pep.mol_logp)\n",
    "    hydro.append(pep.avg_hydro)\n",
    "\n",
    "print(\"The number of peptides with properties calculated is: {}\".format(len(charges)))"
   ]
  },
  {
   "cell_type": "code",
   "execution_count": 8,
   "id": "2b353d14",
   "metadata": {},
   "outputs": [
    {
     "name": "stderr",
     "output_type": "stream",
     "text": [
      "C:\\Users\\migue\\Anaconda3\\envs\\pepfun-env\\lib\\site-packages\\ipykernel_launcher.py:1: DeprecationWarning: `np.float` is a deprecated alias for the builtin `float`. To silence this warning, use `float` by itself. Doing this will not modify any behavior and is safe. If you specifically wanted the numpy scalar type, use `np.float64` here.\n",
      "Deprecated in NumPy 1.20; for more details and guidance: https://numpy.org/devdocs/release/1.20.0-notes.html#deprecations\n",
      "  \"\"\"Entry point for launching an IPython kernel.\n"
     ]
    }
   ],
   "source": [
    "chargesData=np.array(charges).astype(np.float)"
   ]
  },
  {
   "cell_type": "code",
   "execution_count": 9,
   "id": "fdddedb0",
   "metadata": {},
   "outputs": [
    {
     "data": {
      "image/png": "[encoded data removed]",
      "text/plain": [
       "<Figure size 432x288 with 1 Axes>"
      ]
     },
     "metadata": {
      "needs_background": "light"
     },
     "output_type": "display_data"
    }
   ],
   "source": [
    "#bins = np.linspace(-6,8,20)\n",
    "plt.hist(chargesData, alpha=0.5, color='b', linewidth=0)#, bins\n",
    "plt.axvline(x=mean(charges), color='b', linestyle='--')\n",
    "plt.title('Net charge (at pH=7)')\n",
    "plt.show()\n",
    "#plt.savefig('charge_raw.png')"
   ]
  },
  {
   "cell_type": "code",
   "execution_count": 15,
   "id": "d01e00c0",
   "metadata": {},
   "outputs": [],
   "source": [
    "sequences = gen_vae['proteins']"
   ]
  },
  {
   "cell_type": "code",
   "execution_count": 16,
   "id": "1e799866",
   "metadata": {},
   "outputs": [
    {
     "name": "stdout",
     "output_type": "stream",
     "text": [
      "The number of peptides with properties calculated is: 1000\n"
     ]
    }
   ],
   "source": [
    "# List with the properties\n",
    "charges=[]\n",
    "weights=[]\n",
    "logps=[]\n",
    "hydro=[]\n",
    "\n",
    "# Loop over the sequences\n",
    "for seq in sequences:\n",
    "    # Create the object and run the calculations\n",
    "    pep=peptide_sequence(seq)\n",
    "    pep.compute_peptide_charges()\n",
    "    pep.calculate_properties_from_mol()\n",
    "    pep.calculate_properties_from_sequence()\n",
    "    \n",
    "    # Append the properties to the lists\n",
    "    charges.append(pep.netCharge)\n",
    "    weights.append(pep.mol_weight)\n",
    "    logps.append(pep.mol_logp)\n",
    "    hydro.append(pep.avg_hydro)\n",
    "\n",
    "print(\"The number of peptides with properties calculated is: {}\".format(len(charges)))"
   ]
  },
  {
   "cell_type": "code",
   "execution_count": 17,
   "id": "5c16ce90",
   "metadata": {},
   "outputs": [
    {
     "name": "stderr",
     "output_type": "stream",
     "text": [
      "C:\\Users\\migue\\Anaconda3\\envs\\pepfun-env\\lib\\site-packages\\ipykernel_launcher.py:1: DeprecationWarning: `np.float` is a deprecated alias for the builtin `float`. To silence this warning, use `float` by itself. Doing this will not modify any behavior and is safe. If you specifically wanted the numpy scalar type, use `np.float64` here.\n",
      "Deprecated in NumPy 1.20; for more details and guidance: https://numpy.org/devdocs/release/1.20.0-notes.html#deprecations\n",
      "  \"\"\"Entry point for launching an IPython kernel.\n"
     ]
    }
   ],
   "source": [
    "chargesData=np.array(charges).astype(np.float)"
   ]
  },
  {
   "cell_type": "code",
   "execution_count": 18,
   "id": "76eed08f",
   "metadata": {},
   "outputs": [
    {
     "data": {
      "image/png": "[encoded data removed]",
      "text/plain": [
       "<Figure size 432x288 with 1 Axes>"
      ]
     },
     "metadata": {
      "needs_background": "light"
     },
     "output_type": "display_data"
    },
    {
     "data": {
      "text/plain": [
       "<Figure size 432x288 with 0 Axes>"
      ]
     },
     "metadata": {},
     "output_type": "display_data"
    }
   ],
   "source": [
    "#bins = np.linspace(-6,8,20)\n",
    "plt.hist(chargesData, alpha=0.5, color='b', linewidth=0)#, bins\n",
    "plt.axvline(x=mean(charges), color='b', linestyle='--')\n",
    "plt.title('Net charge (at pH=7)')\n",
    "plt.show()\n",
    "plt.savefig('charge_gan_rules.png')"
   ]
  },
  {
   "cell_type": "code",
   "execution_count": null,
   "id": "c113bbd5",
   "metadata": {},
   "outputs": [],
   "source": [
    "###########################################   VAE EA  SO   ###################################################"
   ]
  },
  {
   "cell_type": "code",
   "execution_count": 3,
   "id": "ae21a9ab",
   "metadata": {},
   "outputs": [],
   "source": [
    "vae_hydro = pd.read_csv('VAE_ga_trim1.csv')\n",
    "vae_solub = pd.read_csv('VAE_ga_solub_trim1.csv')\n",
    "vae_synt = pd.read_csv('VAE_ga_synt_trim1.csv')\n",
    "vae_hmm = pd.read_csv('VAE_ga_hmm_trim1.csv')"
   ]
  },
  {
   "cell_type": "code",
   "execution_count": 13,
   "id": "a884c7c7",
   "metadata": {},
   "outputs": [],
   "source": [
    "sequences = vae_hydro['proteins']"
   ]
  },
  {
   "cell_type": "code",
   "execution_count": 14,
   "id": "2f0d3c0e",
   "metadata": {},
   "outputs": [
    {
     "name": "stdout",
     "output_type": "stream",
     "text": [
      "The number of peptides with properties calculated is: 1000\n"
     ]
    }
   ],
   "source": [
    "# List with the properties\n",
    "charges=[]\n",
    "weights=[]\n",
    "logps=[]\n",
    "hydro=[]\n",
    "\n",
    "# Loop over the sequences\n",
    "for seq in sequences:\n",
    "    # Create the object and run the calculations\n",
    "    pep=peptide_sequence(seq)\n",
    "    pep.compute_peptide_charges()\n",
    "    pep.calculate_properties_from_mol()\n",
    "    pep.calculate_properties_from_sequence()\n",
    "    \n",
    "    # Append the properties to the lists\n",
    "    charges.append(pep.netCharge)\n",
    "    weights.append(pep.mol_weight)\n",
    "    logps.append(pep.mol_logp)\n",
    "    hydro.append(pep.avg_hydro)\n",
    "\n",
    "print(\"The number of peptides with properties calculated is: {}\".format(len(charges)))"
   ]
  },
  {
   "cell_type": "code",
   "execution_count": 15,
   "id": "2ab915aa",
   "metadata": {},
   "outputs": [
    {
     "name": "stderr",
     "output_type": "stream",
     "text": [
      "C:\\Users\\migue\\Anaconda3\\envs\\pepfun-env\\lib\\site-packages\\ipykernel_launcher.py:1: DeprecationWarning: `np.float` is a deprecated alias for the builtin `float`. To silence this warning, use `float` by itself. Doing this will not modify any behavior and is safe. If you specifically wanted the numpy scalar type, use `np.float64` here.\n",
      "Deprecated in NumPy 1.20; for more details and guidance: https://numpy.org/devdocs/release/1.20.0-notes.html#deprecations\n",
      "  \"\"\"Entry point for launching an IPython kernel.\n"
     ]
    }
   ],
   "source": [
    "chargesData=np.array(charges).astype(np.float)"
   ]
  },
  {
   "cell_type": "code",
   "execution_count": 16,
   "id": "67e331ee",
   "metadata": {},
   "outputs": [
    {
     "data": {
      "image/png": "[encoded data removed]",
      "text/plain": [
       "<Figure size 432x288 with 1 Axes>"
      ]
     },
     "metadata": {
      "needs_background": "light"
     },
     "output_type": "display_data"
    },
    {
     "data": {
      "text/plain": [
       "<Figure size 432x288 with 0 Axes>"
      ]
     },
     "metadata": {},
     "output_type": "display_data"
    }
   ],
   "source": [
    "#bins = np.linspace(-6,8,20)\n",
    "plt.hist(chargesData, alpha=0.5, color='b', linewidth=0)#, bins\n",
    "plt.axvline(x=mean(charges), color='b', linestyle='--')\n",
    "plt.title('Net charge (at pH=7)')\n",
    "plt.show()\n",
    "plt.savefig('charge_gan_hidro.png')"
   ]
  },
  {
   "cell_type": "code",
   "execution_count": null,
   "id": "0e367193",
   "metadata": {},
   "outputs": [],
   "source": [
    "########################## VAE MO ###############################################"
   ]
  },
  {
   "cell_type": "code",
   "execution_count": 21,
   "id": "fbf91122",
   "metadata": {},
   "outputs": [],
   "source": [
    "vae_nsga = pd.read_csv('VAE_nsga_trim1.csv')\n",
    "vae_spea = pd.read_csv('VAE_spea_trim1.csv')\n",
    "vae_nsga3 = pd.read_csv('VAE_nsga3_trim1.csv')"
   ]
  },
  {
   "cell_type": "code",
   "execution_count": 31,
   "id": "a8b6eae0",
   "metadata": {},
   "outputs": [
    {
     "name": "stdout",
     "output_type": "stream",
     "text": [
      "0      IKLSISPVETLKQTVELAKQAEKWGYHRFWVSEHHFSGSPEVLISH...\n",
      "1      MKFGVFAEAAERFEDQVEQARMIEQRDFTTVWITEHTSNEPSPMVV...\n",
      "2      MKFSLFYEAEWSVSDRRSFNDLVEQTLMAEEGDFTTVWIPEHHSME...\n",
      "3      IKLSISPAETLKQTVELAKQAEKWGYHRFWVSEHHFSGSPEVLISH...\n",
      "4      MKFSLFYEAEWSVSDRRSFNDLTEQTLMAEEGDFTTVWIPEHHSME...\n",
      "                             ...                        \n",
      "995    LKFSLVEAIPRTFHKTVELAVLAEELGFDTLWVREVHLNDYSFSPF...\n",
      "996    LSFGFITEGVPETFQKALELAKQAEKSDFAALWVREVPFNDYGPSP...\n",
      "997    IKLSISPAEALSHTVELAVQAEKWGFHRFWVSEHHFAGSPEVLISH...\n",
      "998    KKLSIPADTLHQSVELAVLAEELGFDRAWFAEHHFASSPVVLISHI...\n",
      "999    MKFSLFHTQSHRDLFEDTVELAVMAEELGFDTVWIREHHAMRPSPL...\n",
      "Name: proteins, Length: 1000, dtype: object\n"
     ]
    }
   ],
   "source": [
    "sequences = vae_nsga3['proteins']\n",
    "print (sequences)"
   ]
  },
  {
   "cell_type": "code",
   "execution_count": 32,
   "id": "6c165e96",
   "metadata": {},
   "outputs": [
    {
     "name": "stdout",
     "output_type": "stream",
     "text": [
      "The number of peptides with properties calculated is: 1000\n"
     ]
    }
   ],
   "source": [
    "# List with the properties\n",
    "charges=[]\n",
    "weights=[]\n",
    "logps=[]\n",
    "hydro=[]\n",
    "\n",
    "# Loop over the sequences\n",
    "for seq in sequences:\n",
    "    # Create the object and run the calculations\n",
    "    pep=peptide_sequence(seq)\n",
    "    pep.compute_peptide_charges()\n",
    "    pep.calculate_properties_from_mol()\n",
    "    pep.calculate_properties_from_sequence()\n",
    "    \n",
    "    # Append the properties to the lists\n",
    "    charges.append(pep.netCharge)\n",
    "    weights.append(pep.mol_weight)\n",
    "    logps.append(pep.mol_logp)\n",
    "    hydro.append(pep.avg_hydro)\n",
    "\n",
    "print(\"The number of peptides with properties calculated is: {}\".format(len(charges)))"
   ]
  },
  {
   "cell_type": "code",
   "execution_count": 33,
   "id": "ff9a51a1",
   "metadata": {},
   "outputs": [
    {
     "name": "stderr",
     "output_type": "stream",
     "text": [
      "C:\\Users\\migue\\Anaconda3\\envs\\pepfun-env\\lib\\site-packages\\ipykernel_launcher.py:1: DeprecationWarning: `np.float` is a deprecated alias for the builtin `float`. To silence this warning, use `float` by itself. Doing this will not modify any behavior and is safe. If you specifically wanted the numpy scalar type, use `np.float64` here.\n",
      "Deprecated in NumPy 1.20; for more details and guidance: https://numpy.org/devdocs/release/1.20.0-notes.html#deprecations\n",
      "  \"\"\"Entry point for launching an IPython kernel.\n"
     ]
    }
   ],
   "source": [
    "chargesData=np.array(charges).astype(np.float)"
   ]
  },
  {
   "cell_type": "code",
   "execution_count": 34,
   "id": "81a333ff",
   "metadata": {},
   "outputs": [
    {
     "data": {
      "image/png": "[encoded data removed]",
      "text/plain": [
       "<Figure size 432x288 with 1 Axes>"
      ]
     },
     "metadata": {
      "needs_background": "light"
     },
     "output_type": "display_data"
    }
   ],
   "source": [
    "plt.hist(chargesData, alpha=0.5, color='b', linewidth=0)#, bins\n",
    "plt.axvline(x=mean(charges), color='b', linestyle='--')\n",
    "plt.title('Net charge (at pH=7)')\n",
    "plt.show()"
   ]
  }
 ],
 "metadata": {
  "kernelspec": {
   "display_name": "Python 3",
   "language": "python",
   "name": "python3"
  },
  "language_info": {
   "codemirror_mode": {
    "name": "ipython",
    "version": 3
   },
   "file_extension": ".py",
   "mimetype": "text/x-python",
   "name": "python",
   "nbconvert_exporter": "python",
   "pygments_lexer": "ipython3",
   "version": "3.7.1"
  }
 },
 "nbformat": 4,
 "nbformat_minor": 5
}
