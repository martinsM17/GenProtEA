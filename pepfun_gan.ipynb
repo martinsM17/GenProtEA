{
 "cells": [
  {
   "cell_type": "code",
   "execution_count": 1,
   "id": "e0d2897f",
   "metadata": {},
   "outputs": [],
   "source": [
    "import pandas as pd\n",
    "from pepfun import *\n",
    "\n",
    "import numpy as np\n",
    "import matplotlib.pyplot as plt\n",
    "from statistics import mean\n",
    "from statistics import stdev\n",
    "from scipy import stats"
   ]
  },
  {
   "cell_type": "code",
   "execution_count": 2,
   "id": "1c30ed70",
   "metadata": {
    "scrolled": true
   },
   "outputs": [],
   "source": [
    "#load data with the right format, specially the header\n",
    "data_raw = pd.read_csv('GAN_original_results.csv')\n",
    "data_gan = pd.read_csv('GAN_results.csv')"
   ]
  },
  {
   "cell_type": "code",
   "execution_count": 4,
   "id": "34047e42",
   "metadata": {
    "scrolled": true
   },
   "outputs": [
    {
     "data": {
      "text/html": [
       "<div>\n",
       "<style scoped>\n",
       "    .dataframe tbody tr th:only-of-type {\n",
       "        vertical-align: middle;\n",
       "    }\n",
       "\n",
       "    .dataframe tbody tr th {\n",
       "        vertical-align: top;\n",
       "    }\n",
       "\n",
       "    .dataframe thead th {\n",
       "        text-align: right;\n",
       "    }\n",
       "</style>\n",
       "<table border=\"1\" class=\"dataframe\">\n",
       "  <thead>\n",
       "    <tr style=\"text-align: right;\">\n",
       "      <th></th>\n",
       "      <th>proteins</th>\n",
       "      <th>hydrophobicity</th>\n",
       "      <th>solubility_rules</th>\n",
       "      <th>synthesis_rules</th>\n",
       "    </tr>\n",
       "  </thead>\n",
       "  <tbody>\n",
       "    <tr>\n",
       "      <th>2533</th>\n",
       "      <td>YMITVIVGLIIHGAIFLPCIYFAIVRKNPFSFFMGIFQAWITALGT...</td>\n",
       "      <td>0.382970</td>\n",
       "      <td>2</td>\n",
       "      <td>109</td>\n",
       "    </tr>\n",
       "    <tr>\n",
       "      <th>4289</th>\n",
       "      <td>MQREEGFNTKMADGPDEYDTEAGCVPLLHPEEIKPQSHYNHGYGEP...</td>\n",
       "      <td>0.119557</td>\n",
       "      <td>3</td>\n",
       "      <td>258</td>\n",
       "    </tr>\n",
       "    <tr>\n",
       "      <th>3136</th>\n",
       "      <td>MKKVWIGIGIAVIVALFVGINIYRSAAPTSGSAGKEVQTGSVEENE...</td>\n",
       "      <td>-0.103607</td>\n",
       "      <td>2</td>\n",
       "      <td>77</td>\n",
       "    </tr>\n",
       "    <tr>\n",
       "      <th>6627</th>\n",
       "      <td>MSYSLYLAFVCLNLLAQRMCIQGNQFNVEVSRSDKLSLPGFENLTA...</td>\n",
       "      <td>0.108023</td>\n",
       "      <td>3</td>\n",
       "      <td>180</td>\n",
       "    </tr>\n",
       "    <tr>\n",
       "      <th>10368</th>\n",
       "      <td>MSAHAGSGAAGDAGAARADDEALALLPASAPGGDHGDGGSSSGREE...</td>\n",
       "      <td>0.246984</td>\n",
       "      <td>2</td>\n",
       "      <td>276</td>\n",
       "    </tr>\n",
       "  </tbody>\n",
       "</table>\n",
       "</div>"
      ],
      "text/plain": [
       "                                                proteins  hydrophobicity  \\\n",
       "2533   YMITVIVGLIIHGAIFLPCIYFAIVRKNPFSFFMGIFQAWITALGT...        0.382970   \n",
       "4289   MQREEGFNTKMADGPDEYDTEAGCVPLLHPEEIKPQSHYNHGYGEP...        0.119557   \n",
       "3136   MKKVWIGIGIAVIVALFVGINIYRSAAPTSGSAGKEVQTGSVEENE...       -0.103607   \n",
       "6627   MSYSLYLAFVCLNLLAQRMCIQGNQFNVEVSRSDKLSLPGFENLTA...        0.108023   \n",
       "10368  MSAHAGSGAAGDAGAARADDEALALLPASAPGGDHGDGGSSSGREE...        0.246984   \n",
       "\n",
       "       solubility_rules  synthesis_rules  \n",
       "2533                  2              109  \n",
       "4289                  3              258  \n",
       "3136                  2               77  \n",
       "6627                  3              180  \n",
       "10368                 2              276  "
      ]
     },
     "execution_count": 4,
     "metadata": {},
     "output_type": "execute_result"
    }
   ],
   "source": [
    "raw_gan= data_raw.sample(1000)\n",
    "raw_gan.head()\n"
   ]
  },
  {
   "cell_type": "code",
   "execution_count": 5,
   "id": "113d73c4",
   "metadata": {},
   "outputs": [],
   "source": [
    "raw_gan.to_csv('gan_raw.csv')"
   ]
  },
  {
   "cell_type": "code",
   "execution_count": 6,
   "id": "bdd27e2e",
   "metadata": {},
   "outputs": [
    {
     "data": {
      "text/plain": [
       "(1000, 5)"
      ]
     },
     "execution_count": 6,
     "metadata": {},
     "output_type": "execute_result"
    }
   ],
   "source": [
    "gen_gan = data_gan.sample(1000)"
   ]
  },
  {
   "cell_type": "code",
   "execution_count": 7,
   "id": "f551bfca",
   "metadata": {},
   "outputs": [],
   "source": [
    "#save set of samples used\n",
    "gen_gan.to_csv('gan_generated.csv')"
   ]
  },
  {
   "cell_type": "code",
   "execution_count": 8,
   "id": "0e310607",
   "metadata": {},
   "outputs": [
    {
     "name": "stdout",
     "output_type": "stream",
     "text": [
      "2533     YMITVIVGLIIHGAIFLPCIYFAIVRKNPFSFFMGIFQAWITALGT...\n",
      "4289     MQREEGFNTKMADGPDEYDTEAGCVPLLHPEEIKPQSHYNHGYGEP...\n",
      "3136     MKKVWIGIGIAVIVALFVGINIYRSAAPTSGSAGKEVQTGSVEENE...\n",
      "6627     MSYSLYLAFVCLNLLAQRMCIQGNQFNVEVSRSDKLSLPGFENLTA...\n",
      "10368    MSAHAGSGAAGDAGAARADDEALALLPASAPGGDHGDGGSSSGREE...\n",
      "                               ...                        \n",
      "7113     MSALTRLASFARVGGRLFRSGCARTAGDGGVRHAGGGVHIEPRYRQ...\n",
      "9764     MEIERESSERGSISWRASAAHDQDAKKLDADDQLLMKEPAWKRFLA...\n",
      "1261     MSSTAVQPPPPVPPPPPSAVPSAGKGIHSKLYNGMIGAADKFVPAK...\n",
      "3200     MGFKLNPFSKKPKDEEPLPLEQYEASEQKILGLVTKKEAKLLAIAG...\n",
      "12294    MPPAVGGPVGYTPPDGGWGWAVVIGAFISIGFSYAFPKSITVFFKE...\n",
      "Name: proteins, Length: 1000, dtype: object\n"
     ]
    }
   ],
   "source": [
    "#protein sequences to analyse with pepfun\n",
    "sequences = raw_gan['proteins']"
   ]
  },
  {
   "cell_type": "code",
   "execution_count": 9,
   "id": "4779cd43",
   "metadata": {},
   "outputs": [
    {
     "name": "stdout",
     "output_type": "stream",
     "text": [
      "The number of peptides with properties calculated is: 1000\n"
     ]
    }
   ],
   "source": [
    "# List with the properties\n",
    "charges=[]\n",
    "weights=[]\n",
    "logps=[]\n",
    "hydro=[]\n",
    "\n",
    "# Loop over the sequences\n",
    "for seq in sequences:\n",
    "    # Create the object and run the calculations\n",
    "    pep=peptide_sequence(seq)\n",
    "    pep.compute_peptide_charges()\n",
    "    pep.calculate_properties_from_mol()\n",
    "    pep.calculate_properties_from_sequence()\n",
    "    \n",
    "    # Append the properties to the lists\n",
    "    charges.append(pep.netCharge)\n",
    "    weights.append(pep.mol_weight)\n",
    "    logps.append(pep.mol_logp)\n",
    "    hydro.append(pep.avg_hydro)\n",
    "\n",
    "print(\"The number of peptides with properties calculated is: {}\".format(len(charges)))"
   ]
  },
  {
   "cell_type": "code",
   "execution_count": 10,
   "id": "2b353d14",
   "metadata": {},
   "outputs": [
    {
     "name": "stderr",
     "output_type": "stream",
     "text": [
      "C:\\Users\\migue\\Anaconda3\\envs\\pepfun-env\\lib\\site-packages\\ipykernel_launcher.py:1: DeprecationWarning: `np.float` is a deprecated alias for the builtin `float`. To silence this warning, use `float` by itself. Doing this will not modify any behavior and is safe. If you specifically wanted the numpy scalar type, use `np.float64` here.\n",
      "Deprecated in NumPy 1.20; for more details and guidance: https://numpy.org/devdocs/release/1.20.0-notes.html#deprecations\n",
      "  \"\"\"Entry point for launching an IPython kernel.\n"
     ]
    }
   ],
   "source": [
    "chargesData=np.array(charges).astype(np.float)"
   ]
  },
  {
   "cell_type": "code",
   "execution_count": 11,
   "id": "fdddedb0",
   "metadata": {},
   "outputs": [
    {
     "data": {
      "image/png": "[encoded data removed]",
      "text/plain": [
       "<Figure size 432x288 with 1 Axes>"
      ]
     },
     "metadata": {
      "needs_background": "light"
     },
     "output_type": "display_data"
    },
    {
     "data": {
      "text/plain": [
       "<Figure size 432x288 with 0 Axes>"
      ]
     },
     "metadata": {},
     "output_type": "display_data"
    }
   ],
   "source": [
    "plt.hist(chargesData, alpha=0.5, color='b', linewidth=0)\n",
    "plt.axvline(x=mean(charges), color='b', linestyle='--')\n",
    "plt.title('Net charge (at pH=7)')\n",
    "plt.show()\n",
    "plt.savefig('charge_raw.png')"
   ]
  },
  {
   "cell_type": "code",
   "execution_count": 12,
   "id": "cb68d538",
   "metadata": {},
   "outputs": [],
   "source": [
    "sequences = gen_gan['proteins']"
   ]
  },
  {
   "cell_type": "code",
   "execution_count": 13,
   "id": "1e799866",
   "metadata": {},
   "outputs": [
    {
     "name": "stdout",
     "output_type": "stream",
     "text": [
      "The number of peptides with properties calculated is: 1000\n"
     ]
    }
   ],
   "source": [
    "# List with the properties\n",
    "charges=[]\n",
    "weights=[]\n",
    "logps=[]\n",
    "hydro=[]\n",
    "\n",
    "# Loop over the sequences\n",
    "for seq in sequences:\n",
    "    # Create the object and run the calculations\n",
    "    pep=peptide_sequence(seq)\n",
    "    pep.compute_peptide_charges()\n",
    "    pep.calculate_properties_from_mol()\n",
    "    pep.calculate_properties_from_sequence()\n",
    "    \n",
    "    # Append the properties to the lists\n",
    "    charges.append(pep.netCharge)\n",
    "    weights.append(pep.mol_weight)\n",
    "    logps.append(pep.mol_logp)\n",
    "    hydro.append(pep.avg_hydro)\n",
    "\n",
    "print(\"The number of peptides with properties calculated is: {}\".format(len(charges)))"
   ]
  },
  {
   "cell_type": "code",
   "execution_count": 14,
   "id": "5c16ce90",
   "metadata": {},
   "outputs": [
    {
     "name": "stderr",
     "output_type": "stream",
     "text": [
      "C:\\Users\\migue\\Anaconda3\\envs\\pepfun-env\\lib\\site-packages\\ipykernel_launcher.py:1: DeprecationWarning: `np.float` is a deprecated alias for the builtin `float`. To silence this warning, use `float` by itself. Doing this will not modify any behavior and is safe. If you specifically wanted the numpy scalar type, use `np.float64` here.\n",
      "Deprecated in NumPy 1.20; for more details and guidance: https://numpy.org/devdocs/release/1.20.0-notes.html#deprecations\n",
      "  \"\"\"Entry point for launching an IPython kernel.\n"
     ]
    }
   ],
   "source": [
    "chargesData=np.array(charges).astype(np.float)"
   ]
  }
 ],
 "metadata": {
  "kernelspec": {
   "display_name": "Python 3",
   "language": "python",
   "name": "python3"
  },
  "language_info": {
   "codemirror_mode": {
    "name": "ipython",
    "version": 3
   },
   "file_extension": ".py",
   "mimetype": "text/x-python",
   "name": "python",
   "nbconvert_exporter": "python",
   "pygments_lexer": "ipython3",
   "version": "3.7.1"
  }
 },
 "nbformat": 4,
 "nbformat_minor": 5
}
