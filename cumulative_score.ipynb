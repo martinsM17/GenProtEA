{
 "cells": [
  {
   "cell_type": "code",
   "execution_count": 1,
   "id": "71af628e",
   "metadata": {},
   "outputs": [],
   "source": [
    "import pandas as pd\n",
    "from Bio import SeqIO"
   ]
  },
  {
   "cell_type": "code",
   "execution_count": null,
   "id": "1ac3d0b6",
   "metadata": {},
   "outputs": [],
   "source": [
    "#create a cumulative score to select a \"best\" protein sequence"
   ]
  },
  {
   "cell_type": "code",
   "execution_count": 2,
   "id": "62a68201",
   "metadata": {},
   "outputs": [],
   "source": [
    "data = pd.read_csv('VAE_nsga3_trim1.csv')"
   ]
  },
  {
   "cell_type": "code",
   "execution_count": 3,
   "id": "324c1a16",
   "metadata": {},
   "outputs": [
    {
     "data": {
      "text/html": [
       "<div>\n",
       "<style scoped>\n",
       "    .dataframe tbody tr th:only-of-type {\n",
       "        vertical-align: middle;\n",
       "    }\n",
       "\n",
       "    .dataframe tbody tr th {\n",
       "        vertical-align: top;\n",
       "    }\n",
       "\n",
       "    .dataframe thead th {\n",
       "        text-align: right;\n",
       "    }\n",
       "</style>\n",
       "<table border=\"1\" class=\"dataframe\">\n",
       "  <thead>\n",
       "    <tr style=\"text-align: right;\">\n",
       "      <th></th>\n",
       "      <th>proteins</th>\n",
       "      <th>solubility_rules</th>\n",
       "      <th>synthesis_rules</th>\n",
       "      <th>hmm</th>\n",
       "    </tr>\n",
       "  </thead>\n",
       "  <tbody>\n",
       "    <tr>\n",
       "      <th>0</th>\n",
       "      <td>IKLSISPVETLKQTVELAKQAEKWGYHRFWVSEHHFSGSPEVLISH...</td>\n",
       "      <td>2.0</td>\n",
       "      <td>18.0</td>\n",
       "      <td>21.2</td>\n",
       "    </tr>\n",
       "    <tr>\n",
       "      <th>1</th>\n",
       "      <td>MKFGVFAEAAERFEDQVEQARMIEQRDFTTVWITEHTSNEPSPMVV...</td>\n",
       "      <td>2.0</td>\n",
       "      <td>44.0</td>\n",
       "      <td>82.7</td>\n",
       "    </tr>\n",
       "    <tr>\n",
       "      <th>2</th>\n",
       "      <td>MKFSLFYEAEWSVSDRRSFNDLVEQTLMAEEGDFTTVWIPEHHSME...</td>\n",
       "      <td>2.0</td>\n",
       "      <td>65.0</td>\n",
       "      <td>129.7</td>\n",
       "    </tr>\n",
       "    <tr>\n",
       "      <th>3</th>\n",
       "      <td>IKLSISPAETLKQTVELAKQAEKWGYHRFWVSEHHFSGSPEVLISH...</td>\n",
       "      <td>3.0</td>\n",
       "      <td>18.0</td>\n",
       "      <td>21.6</td>\n",
       "    </tr>\n",
       "    <tr>\n",
       "      <th>4</th>\n",
       "      <td>MKFSLFYEAEWSVSDRRSFNDLTEQTLMAEEGDFTTVWIPEHHSME...</td>\n",
       "      <td>2.0</td>\n",
       "      <td>61.0</td>\n",
       "      <td>125.6</td>\n",
       "    </tr>\n",
       "  </tbody>\n",
       "</table>\n",
       "</div>"
      ],
      "text/plain": [
       "                                            proteins  solubility_rules  \\\n",
       "0  IKLSISPVETLKQTVELAKQAEKWGYHRFWVSEHHFSGSPEVLISH...               2.0   \n",
       "1  MKFGVFAEAAERFEDQVEQARMIEQRDFTTVWITEHTSNEPSPMVV...               2.0   \n",
       "2  MKFSLFYEAEWSVSDRRSFNDLVEQTLMAEEGDFTTVWIPEHHSME...               2.0   \n",
       "3  IKLSISPAETLKQTVELAKQAEKWGYHRFWVSEHHFSGSPEVLISH...               3.0   \n",
       "4  MKFSLFYEAEWSVSDRRSFNDLTEQTLMAEEGDFTTVWIPEHHSME...               2.0   \n",
       "\n",
       "   synthesis_rules    hmm  \n",
       "0             18.0   21.2  \n",
       "1             44.0   82.7  \n",
       "2             65.0  129.7  \n",
       "3             18.0   21.6  \n",
       "4             61.0  125.6  "
      ]
     },
     "execution_count": 3,
     "metadata": {},
     "output_type": "execute_result"
    }
   ],
   "source": [
    "data.head()"
   ]
  },
  {
   "cell_type": "code",
   "execution_count": 7,
   "id": "29d35d87",
   "metadata": {},
   "outputs": [
    {
     "data": {
      "text/plain": [
       "156.3"
      ]
     },
     "execution_count": 7,
     "metadata": {},
     "output_type": "execute_result"
    }
   ],
   "source": [
    "data['hmm'][292]"
   ]
  },
  {
   "cell_type": "code",
   "execution_count": 15,
   "id": "5690cf0d",
   "metadata": {},
   "outputs": [],
   "source": [
    "score = data['hmm'] - data['synthesis_rules']\n",
    "proteins = data['proteins']\n",
    "new_data = {'proteins': proteins,'score':score}\n",
    "df = pd.DataFrame(new_data)"
   ]
  },
  {
   "cell_type": "code",
   "execution_count": 16,
   "id": "5125a308",
   "metadata": {},
   "outputs": [
    {
     "data": {
      "text/html": [
       "<div>\n",
       "<style scoped>\n",
       "    .dataframe tbody tr th:only-of-type {\n",
       "        vertical-align: middle;\n",
       "    }\n",
       "\n",
       "    .dataframe tbody tr th {\n",
       "        vertical-align: top;\n",
       "    }\n",
       "\n",
       "    .dataframe thead th {\n",
       "        text-align: right;\n",
       "    }\n",
       "</style>\n",
       "<table border=\"1\" class=\"dataframe\">\n",
       "  <thead>\n",
       "    <tr style=\"text-align: right;\">\n",
       "      <th></th>\n",
       "      <th>proteins</th>\n",
       "      <th>score</th>\n",
       "    </tr>\n",
       "  </thead>\n",
       "  <tbody>\n",
       "    <tr>\n",
       "      <th>0</th>\n",
       "      <td>IKLSISPVETLKQTVELAKQAEKWGYHRFWVSEHHFSGSPEVLISH...</td>\n",
       "      <td>3.2</td>\n",
       "    </tr>\n",
       "    <tr>\n",
       "      <th>1</th>\n",
       "      <td>MKFGVFAEAAERFEDQVEQARMIEQRDFTTVWITEHTSNEPSPMVV...</td>\n",
       "      <td>38.7</td>\n",
       "    </tr>\n",
       "    <tr>\n",
       "      <th>2</th>\n",
       "      <td>MKFSLFYEAEWSVSDRRSFNDLVEQTLMAEEGDFTTVWIPEHHSME...</td>\n",
       "      <td>64.7</td>\n",
       "    </tr>\n",
       "    <tr>\n",
       "      <th>3</th>\n",
       "      <td>IKLSISPAETLKQTVELAKQAEKWGYHRFWVSEHHFSGSPEVLISH...</td>\n",
       "      <td>3.6</td>\n",
       "    </tr>\n",
       "    <tr>\n",
       "      <th>4</th>\n",
       "      <td>MKFSLFYEAEWSVSDRRSFNDLTEQTLMAEEGDFTTVWIPEHHSME...</td>\n",
       "      <td>64.6</td>\n",
       "    </tr>\n",
       "  </tbody>\n",
       "</table>\n",
       "</div>"
      ],
      "text/plain": [
       "                                            proteins  score\n",
       "0  IKLSISPVETLKQTVELAKQAEKWGYHRFWVSEHHFSGSPEVLISH...    3.2\n",
       "1  MKFGVFAEAAERFEDQVEQARMIEQRDFTTVWITEHTSNEPSPMVV...   38.7\n",
       "2  MKFSLFYEAEWSVSDRRSFNDLVEQTLMAEEGDFTTVWIPEHHSME...   64.7\n",
       "3  IKLSISPAETLKQTVELAKQAEKWGYHRFWVSEHHFSGSPEVLISH...    3.6\n",
       "4  MKFSLFYEAEWSVSDRRSFNDLTEQTLMAEEGDFTTVWIPEHHSME...   64.6"
      ]
     },
     "execution_count": 16,
     "metadata": {},
     "output_type": "execute_result"
    }
   ],
   "source": [
    "df.head()"
   ]
  },
  {
   "cell_type": "code",
   "execution_count": 20,
   "id": "0acd9796",
   "metadata": {},
   "outputs": [],
   "source": [
    "df = df.sort_values(by='score', ascending=False)"
   ]
  },
  {
   "cell_type": "code",
   "execution_count": 23,
   "id": "70d46312",
   "metadata": {},
   "outputs": [
    {
     "data": {
      "text/html": [
       "<div>\n",
       "<style scoped>\n",
       "    .dataframe tbody tr th:only-of-type {\n",
       "        vertical-align: middle;\n",
       "    }\n",
       "\n",
       "    .dataframe tbody tr th {\n",
       "        vertical-align: top;\n",
       "    }\n",
       "\n",
       "    .dataframe thead th {\n",
       "        text-align: right;\n",
       "    }\n",
       "</style>\n",
       "<table border=\"1\" class=\"dataframe\">\n",
       "  <thead>\n",
       "    <tr style=\"text-align: right;\">\n",
       "      <th></th>\n",
       "      <th>proteins</th>\n",
       "      <th>score</th>\n",
       "    </tr>\n",
       "  </thead>\n",
       "  <tbody>\n",
       "    <tr>\n",
       "      <th>292</th>\n",
       "      <td>MKFSLFAEARNSQTHRFDKLVEQARLAEERDFTTVWTPEHHSHEFS...</td>\n",
       "      <td>99.3</td>\n",
       "    </tr>\n",
       "    <tr>\n",
       "      <th>296</th>\n",
       "      <td>MKFSLFYEARNSQTHRFDKLVEQARLAEERDFTTVWTPEHHSHEFS...</td>\n",
       "      <td>98.0</td>\n",
       "    </tr>\n",
       "    <tr>\n",
       "      <th>299</th>\n",
       "      <td>MKFSLFYEARNSQTHRFDKLVEQARLAEERDFTTVWTPEHHSHEFS...</td>\n",
       "      <td>98.0</td>\n",
       "    </tr>\n",
       "    <tr>\n",
       "      <th>294</th>\n",
       "      <td>MKFSLFYEARNSQTHRFDKLVEQARLAEERDFTTVWTPEHHSHEFS...</td>\n",
       "      <td>98.0</td>\n",
       "    </tr>\n",
       "    <tr>\n",
       "      <th>41</th>\n",
       "      <td>MKFSLFYEAENSISHRRFDNLVEQTRMAEEGDFTTVWTPEHHSHEI...</td>\n",
       "      <td>92.8</td>\n",
       "    </tr>\n",
       "  </tbody>\n",
       "</table>\n",
       "</div>"
      ],
      "text/plain": [
       "                                              proteins  score\n",
       "292  MKFSLFAEARNSQTHRFDKLVEQARLAEERDFTTVWTPEHHSHEFS...   99.3\n",
       "296  MKFSLFYEARNSQTHRFDKLVEQARLAEERDFTTVWTPEHHSHEFS...   98.0\n",
       "299  MKFSLFYEARNSQTHRFDKLVEQARLAEERDFTTVWTPEHHSHEFS...   98.0\n",
       "294  MKFSLFYEARNSQTHRFDKLVEQARLAEERDFTTVWTPEHHSHEFS...   98.0\n",
       "41   MKFSLFYEAENSISHRRFDNLVEQTRMAEEGDFTTVWTPEHHSHEI...   92.8"
      ]
     },
     "execution_count": 23,
     "metadata": {},
     "output_type": "execute_result"
    }
   ],
   "source": [
    "df.head()"
   ]
  },
  {
   "cell_type": "code",
   "execution_count": 24,
   "id": "8ed1235d",
   "metadata": {},
   "outputs": [
    {
     "data": {
      "text/plain": [
       "'MKFSLFAEARNSQTHRFDKLVEQARLAEERDFTTVWTPEHHSHEFSPSPMVTLAHLAAKTERVALGTAGIVAPLHPIRVAKEIAVLDHLSNGRAVVGFARGWTQTEFAAFGVASRQAGLREIVDAIQKLWADDTAEHVGQYVKIPKATAVPKPIQKPHPPMWVAQGGPENFKWAAEHGAGFMVTLLGGLEEIEKRIKEFREAFDHEDPKVAVLRHTHVTNKDGVRNVAIQFKREFSVQKNRRAEIAELADFTDESFHKRGVFGSVDEVVDRLERLDGVDEIALDAKEVLDGLALLQEQHRAYFRA'"
      ]
     },
     "execution_count": 24,
     "metadata": {},
     "output_type": "execute_result"
    }
   ],
   "source": [
    "df['proteins'][292]"
   ]
  }
 ],
 "metadata": {
  "kernelspec": {
   "display_name": "Python 3",
   "language": "python",
   "name": "python3"
  },
  "language_info": {
   "codemirror_mode": {
    "name": "ipython",
    "version": 3
   },
   "file_extension": ".py",
   "mimetype": "text/x-python",
   "name": "python",
   "nbconvert_exporter": "python",
   "pygments_lexer": "ipython3",
   "version": "3.7.1"
  }
 },
 "nbformat": 4,
 "nbformat_minor": 5
}
