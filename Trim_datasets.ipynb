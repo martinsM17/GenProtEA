{
 "cells": [
  {
   "cell_type": "code",
   "execution_count": 89,
   "id": "9d261758",
   "metadata": {},
   "outputs": [],
   "source": [
    "import pandas as pd\n",
    "import csv"
   ]
  },
  {
   "cell_type": "code",
   "execution_count": null,
   "id": "06a68766",
   "metadata": {},
   "outputs": [],
   "source": [
    "#reshape and trim the generated datasets"
   ]
  },
  {
   "cell_type": "code",
   "execution_count": 90,
   "id": "4ee8e307",
   "metadata": {},
   "outputs": [
    {
     "data": {
      "text/html": [
       "<div>\n",
       "<style scoped>\n",
       "    .dataframe tbody tr th:only-of-type {\n",
       "        vertical-align: middle;\n",
       "    }\n",
       "\n",
       "    .dataframe tbody tr th {\n",
       "        vertical-align: top;\n",
       "    }\n",
       "\n",
       "    .dataframe thead th {\n",
       "        text-align: right;\n",
       "    }\n",
       "</style>\n",
       "<table border=\"1\" class=\"dataframe\">\n",
       "  <thead>\n",
       "    <tr style=\"text-align: right;\">\n",
       "      <th></th>\n",
       "      <th>Proteins</th>\n",
       "      <th>solubility_rules</th>\n",
       "      <th>synthesis_rules</th>\n",
       "    </tr>\n",
       "  </thead>\n",
       "  <tbody>\n",
       "    <tr>\n",
       "      <th>0</th>\n",
       "      <td>IKLS-I---S------AEETLQHTVELAQEAEKLGYKRFWVSEHHF...</td>\n",
       "      <td>2.0</td>\n",
       "      <td>19.0</td>\n",
       "    </tr>\n",
       "    <tr>\n",
       "      <th>1</th>\n",
       "      <td>IKLS-I---S------AEETLQHTVELAQEAEKLGYKRFWVSEHHF...</td>\n",
       "      <td>2.0</td>\n",
       "      <td>19.0</td>\n",
       "    </tr>\n",
       "    <tr>\n",
       "      <th>2</th>\n",
       "      <td>IKLS-I---S------AEETLQHTVELAQEAEKLGYKRFWVSEHHF...</td>\n",
       "      <td>2.0</td>\n",
       "      <td>19.0</td>\n",
       "    </tr>\n",
       "    <tr>\n",
       "      <th>3</th>\n",
       "      <td>IKLS-I---S------AEETLQHTVELAQEAEKLGYKRFWVSEHHF...</td>\n",
       "      <td>2.0</td>\n",
       "      <td>19.0</td>\n",
       "    </tr>\n",
       "    <tr>\n",
       "      <th>4</th>\n",
       "      <td>IKLS-I---S------AEETLQHTVELAQEAEKLGYKRFWVSEHHF...</td>\n",
       "      <td>2.0</td>\n",
       "      <td>19.0</td>\n",
       "    </tr>\n",
       "  </tbody>\n",
       "</table>\n",
       "</div>"
      ],
      "text/plain": [
       "                                            Proteins  solubility_rules  \\\n",
       "0  IKLS-I---S------AEETLQHTVELAQEAEKLGYKRFWVSEHHF...               2.0   \n",
       "1  IKLS-I---S------AEETLQHTVELAQEAEKLGYKRFWVSEHHF...               2.0   \n",
       "2  IKLS-I---S------AEETLQHTVELAQEAEKLGYKRFWVSEHHF...               2.0   \n",
       "3  IKLS-I---S------AEETLQHTVELAQEAEKLGYKRFWVSEHHF...               2.0   \n",
       "4  IKLS-I---S------AEETLQHTVELAQEAEKLGYKRFWVSEHHF...               2.0   \n",
       "\n",
       "   synthesis_rules  \n",
       "0             19.0  \n",
       "1             19.0  \n",
       "2             19.0  \n",
       "3             19.0  \n",
       "4             19.0  "
      ]
     },
     "execution_count": 90,
     "metadata": {},
     "output_type": "execute_result"
    }
   ],
   "source": [
    "data_vae_nsga_rules = pd.read_csv('VAE_nsga.csv', sep=';')\n",
    "data_vae_nsga_rules.head()"
   ]
  },
  {
   "cell_type": "code",
   "execution_count": 91,
   "id": "bc42dcbf",
   "metadata": {},
   "outputs": [
    {
     "data": {
      "text/plain": [
       "0      IKLS-I---S------AEETLQHTVELAQEAEKLGYKRFWVSEHHF...\n",
       "1      IKLS-I---S------AEETLQHTVELAQEAEKLGYKRFWVSEHHF...\n",
       "2      IKLS-I---S------AEETLQHTVELAQEAEKLGYKRFWVSEHHF...\n",
       "3      IKLS-I---S------AEETLQHTVELAQEAEKLGYKRFWVSEHHF...\n",
       "4      IKLS-I---S------AEETLQHTVELAQEAEKLGYKRFWVSEHHF...\n",
       "                             ...                        \n",
       "995    IKLS-I----------AETALRHTVKLAQQVEKWGFKRFWVSEHHF...\n",
       "996    IKLS-I----------AETALRHTVKLAQQVEKWGFKRFWVSEHHF...\n",
       "997    IKLS-I----------AETALRHTVKLAQQVEKWGFKRFWVSEHHF...\n",
       "998    IKLS-I----------AETALRHTVKLAQQVEKWGFKRFWVSEHHF...\n",
       "999    IKLS-I----------AETALRHTVKLAQQVEKWGFKRFWVSEHHF...\n",
       "Name: Proteins, Length: 1000, dtype: object"
      ]
     },
     "execution_count": 91,
     "metadata": {},
     "output_type": "execute_result"
    }
   ],
   "source": [
    "data_vae_nsga_rules['Proteins']"
   ]
  },
  {
   "cell_type": "code",
   "execution_count": 92,
   "id": "d058c37f",
   "metadata": {},
   "outputs": [],
   "source": [
    "def remove_gaps(candidate):\n",
    "    candidate = candidate.replace(\"-\",\"\")\n",
    "\n",
    "    return candidate"
   ]
  },
  {
   "cell_type": "code",
   "execution_count": 117,
   "id": "5c6e212d",
   "metadata": {},
   "outputs": [],
   "source": [
    "from csv import reader\n",
    "list_prots=[]\n",
    "list_reps=[]\n",
    "#destFile = \"nsga_test.csv\"\n",
    "destFile = \"ga_test.csv\"\n",
    "with open(destFile, 'w') as f:\n",
    "    writer = csv.writer(f)\n",
    "    with open('VAE_ga.csv', 'r') as read_obj:\n",
    "        csv_reader = reader(read_obj, delimiter = ';')\n",
    "        for row in csv_reader:\n",
    "            seq = row[0]\n",
    "            seq = remove_gaps(seq)\n",
    "            hydro = row[1]\n",
    "            #solub = row[1]\n",
    "            #synt = row[2]\n",
    "            if seq in list_prots:\n",
    "                list_reps.append(seq)\n",
    "            else:\n",
    "                list_prots.append(seq)\n",
    "                data = [seq,hydro]\n",
    "                writer.writerow(data)       \n",
    "        f.close()\n"
   ]
  },
  {
   "cell_type": "code",
   "execution_count": 118,
   "id": "3bf4e4ff",
   "metadata": {},
   "outputs": [
    {
     "data": {
      "text/plain": [
       "(111, 2)"
      ]
     },
     "execution_count": 118,
     "metadata": {},
     "output_type": "execute_result"
    }
   ],
   "source": [
    "vae_nsga_rules = pd.read_csv('ga_test.csv')\n",
    "#vae_nsga_rules.head()\n",
    "vae_nsga_rules.shape\n"
   ]
  },
  {
   "cell_type": "code",
   "execution_count": 106,
   "id": "637659c4",
   "metadata": {},
   "outputs": [
    {
     "data": {
      "text/html": [
       "<div>\n",
       "<style scoped>\n",
       "    .dataframe tbody tr th:only-of-type {\n",
       "        vertical-align: middle;\n",
       "    }\n",
       "\n",
       "    .dataframe tbody tr th {\n",
       "        vertical-align: top;\n",
       "    }\n",
       "\n",
       "    .dataframe thead th {\n",
       "        text-align: right;\n",
       "    }\n",
       "</style>\n",
       "<table border=\"1\" class=\"dataframe\">\n",
       "  <thead>\n",
       "    <tr style=\"text-align: right;\">\n",
       "      <th></th>\n",
       "      <th>Proteins</th>\n",
       "      <th>solubility_rules</th>\n",
       "      <th>synthesis_rules</th>\n",
       "    </tr>\n",
       "  </thead>\n",
       "  <tbody>\n",
       "    <tr>\n",
       "      <th>0</th>\n",
       "      <td>IKLSISAAEAFSHTVELAQQAEKLGYTRFWVSEHHNSGSPEVLISH...</td>\n",
       "      <td>2.0</td>\n",
       "      <td>22.0</td>\n",
       "    </tr>\n",
       "    <tr>\n",
       "      <th>1</th>\n",
       "      <td>IKLSISAAEAFSHTVELAQQAEKLGYTRFWVSEHHNSGSPEVLISH...</td>\n",
       "      <td>2.0</td>\n",
       "      <td>22.0</td>\n",
       "    </tr>\n",
       "    <tr>\n",
       "      <th>2</th>\n",
       "      <td>IKLSISAAEAFSHTVELAQQAEKLGYTRFWVSEHHNSGSPEVLISH...</td>\n",
       "      <td>2.0</td>\n",
       "      <td>22.0</td>\n",
       "    </tr>\n",
       "    <tr>\n",
       "      <th>3</th>\n",
       "      <td>IKLSISAAEAFSHTVELAQQAEKLGYTRFWVSEHHNSGSPEVLISH...</td>\n",
       "      <td>2.0</td>\n",
       "      <td>22.0</td>\n",
       "    </tr>\n",
       "    <tr>\n",
       "      <th>4</th>\n",
       "      <td>IKLSISAAEAFSHTVELAQQAEKLGYTRFWVSEHHNSGSPEVLISH...</td>\n",
       "      <td>2.0</td>\n",
       "      <td>22.0</td>\n",
       "    </tr>\n",
       "  </tbody>\n",
       "</table>\n",
       "</div>"
      ],
      "text/plain": [
       "                                            Proteins  solubility_rules  \\\n",
       "0  IKLSISAAEAFSHTVELAQQAEKLGYTRFWVSEHHNSGSPEVLISH...               2.0   \n",
       "1  IKLSISAAEAFSHTVELAQQAEKLGYTRFWVSEHHNSGSPEVLISH...               2.0   \n",
       "2  IKLSISAAEAFSHTVELAQQAEKLGYTRFWVSEHHNSGSPEVLISH...               2.0   \n",
       "3  IKLSISAAEAFSHTVELAQQAEKLGYTRFWVSEHHNSGSPEVLISH...               2.0   \n",
       "4  IKLSISAAEAFSHTVELAQQAEKLGYTRFWVSEHHNSGSPEVLISH...               2.0   \n",
       "\n",
       "   synthesis_rules  \n",
       "0             22.0  \n",
       "1             22.0  \n",
       "2             22.0  \n",
       "3             22.0  \n",
       "4             22.0  "
      ]
     },
     "execution_count": 106,
     "metadata": {},
     "output_type": "execute_result"
    }
   ],
   "source": [
    "vae_nsga_rules = pd.read_csv('spea_test.csv')\n",
    "vae_nsga_rules.head()\n",
    "#vae_nsga_rules.shape"
   ]
  },
  {
   "cell_type": "code",
   "execution_count": 82,
   "id": "0669550f",
   "metadata": {},
   "outputs": [
    {
     "data": {
      "text/plain": [
       "(241, 1)"
      ]
     },
     "execution_count": 82,
     "metadata": {},
     "output_type": "execute_result"
    }
   ],
   "source": [
    "vae_nsga2_rules = pd.read_csv('nsga_2_test.csv')\n",
    "vae_nsga2_rules.shape\n"
   ]
  },
  {
   "cell_type": "code",
   "execution_count": 84,
   "id": "67fea94a",
   "metadata": {},
   "outputs": [
    {
     "data": {
      "text/html": [
       "<div>\n",
       "<style scoped>\n",
       "    .dataframe tbody tr th:only-of-type {\n",
       "        vertical-align: middle;\n",
       "    }\n",
       "\n",
       "    .dataframe tbody tr th {\n",
       "        vertical-align: top;\n",
       "    }\n",
       "\n",
       "    .dataframe thead th {\n",
       "        text-align: right;\n",
       "    }\n",
       "</style>\n",
       "<table border=\"1\" class=\"dataframe\">\n",
       "  <thead>\n",
       "    <tr style=\"text-align: right;\">\n",
       "      <th></th>\n",
       "      <th>Proteins</th>\n",
       "      <th>hydrophobicity</th>\n",
       "    </tr>\n",
       "  </thead>\n",
       "  <tbody>\n",
       "    <tr>\n",
       "      <th>0</th>\n",
       "      <td>LSLS-I----------VPETFQKSLELIQLAEMLGYKRLWVAEVHF...</td>\n",
       "      <td>0.320333</td>\n",
       "    </tr>\n",
       "    <tr>\n",
       "      <th>1</th>\n",
       "      <td>LSLS-I----------VPETFQKSLELIQLAEMLGYKRLWVAEVHF...</td>\n",
       "      <td>0.320333</td>\n",
       "    </tr>\n",
       "    <tr>\n",
       "      <th>2</th>\n",
       "      <td>LSLS-I----------VPETFQKSLELIQLAEMLGYKRLWVAEVHF...</td>\n",
       "      <td>0.320333</td>\n",
       "    </tr>\n",
       "    <tr>\n",
       "      <th>3</th>\n",
       "      <td>LSLS-I----------VPETFQKSLELIQLAEMLGYKRLWVAEVHF...</td>\n",
       "      <td>0.320333</td>\n",
       "    </tr>\n",
       "    <tr>\n",
       "      <th>4</th>\n",
       "      <td>LSLS-I----------VPETFQKSLELIQLAEMLGYKRLWVAEVHF...</td>\n",
       "      <td>0.320333</td>\n",
       "    </tr>\n",
       "  </tbody>\n",
       "</table>\n",
       "</div>"
      ],
      "text/plain": [
       "                                            Proteins  hydrophobicity\n",
       "0  LSLS-I----------VPETFQKSLELIQLAEMLGYKRLWVAEVHF...        0.320333\n",
       "1  LSLS-I----------VPETFQKSLELIQLAEMLGYKRLWVAEVHF...        0.320333\n",
       "2  LSLS-I----------VPETFQKSLELIQLAEMLGYKRLWVAEVHF...        0.320333\n",
       "3  LSLS-I----------VPETFQKSLELIQLAEMLGYKRLWVAEVHF...        0.320333\n",
       "4  LSLS-I----------VPETFQKSLELIQLAEMLGYKRLWVAEVHF...        0.320333"
      ]
     },
     "execution_count": 84,
     "metadata": {},
     "output_type": "execute_result"
    }
   ],
   "source": [
    "vae_ga_hydro = pd.read_csv('VAE_ga.csv', sep=';')\n",
    "vae_ga_hydro.head()"
   ]
  },
  {
   "cell_type": "code",
   "execution_count": 85,
   "id": "778bb10c",
   "metadata": {},
   "outputs": [],
   "source": [
    "destFile = \"hydro.csv\"\n",
    "header = ['Proteins']\n",
    "with open(destFile, 'w') as f:\n",
    "    writer = csv.writer(f)\n",
    "    writer.writerow(header)\n",
    "    for seq in vae_ga_hydro['Proteins']:\n",
    "        seq = remove_gaps(seq)\n",
    "        data = [seq]\n",
    "        writer.writerow(data)       \n",
    "    f.close()"
   ]
  },
  {
   "cell_type": "code",
   "execution_count": 86,
   "id": "46971c29",
   "metadata": {},
   "outputs": [
    {
     "data": {
      "text/plain": [
       "(1000, 1)"
      ]
     },
     "execution_count": 86,
     "metadata": {},
     "output_type": "execute_result"
    }
   ],
   "source": [
    "ga_hydro = pd.read_csv('hydro.csv')\n",
    "ga_hydro.head()\n",
    "ga_hydro.shape"
   ]
  },
  {
   "cell_type": "code",
   "execution_count": 87,
   "id": "db880f82",
   "metadata": {},
   "outputs": [],
   "source": [
    "list_prots=[]\n",
    "list_reps=[]\n",
    "for seq in ga_hydro['Proteins']:\n",
    "    if seq in list_prots:\n",
    "        list_reps.append(seq)\n",
    "    else:\n",
    "        list_prots.append(seq)\n",
    "destFile = \"hydro_2.csv\"\n",
    "header = ['Proteins']\n",
    "with open(destFile, 'w') as f:\n",
    "    writer = csv.writer(f)\n",
    "    writer.writerow(header)\n",
    "    for seq in list_prots:\n",
    "        data = [seq]\n",
    "        writer.writerow(data)       \n",
    "    f.close()    "
   ]
  },
  {
   "cell_type": "code",
   "execution_count": 88,
   "id": "968c3aad",
   "metadata": {},
   "outputs": [
    {
     "data": {
      "text/plain": [
       "(111, 1)"
      ]
     },
     "execution_count": 88,
     "metadata": {},
     "output_type": "execute_result"
    }
   ],
   "source": [
    "ga_hydro2 = pd.read_csv('hydro_2.csv')\n",
    "ga_hydro2.shape\n"
   ]
  }
 ],
 "metadata": {
  "kernelspec": {
   "display_name": "Python 3",
   "language": "python",
   "name": "python3"
  },
  "language_info": {
   "codemirror_mode": {
    "name": "ipython",
    "version": 3
   },
   "file_extension": ".py",
   "mimetype": "text/x-python",
   "name": "python",
   "nbconvert_exporter": "python",
   "pygments_lexer": "ipython3",
   "version": "3.7.1"
  }
 },
 "nbformat": 4,
 "nbformat_minor": 5
}
